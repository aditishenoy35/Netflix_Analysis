{
 "cells": [
  {
   "cell_type": "markdown",
   "id": "ab94ba4d-a434-426c-9ff8-56b5849fa9a5",
   "metadata": {},
   "source": [
    "### Installing Pandas"
   ]
  },
  {
   "cell_type": "code",
   "execution_count": null,
   "id": "8446d109-9084-421f-abf0-dc953dd64ddc",
   "metadata": {},
   "outputs": [],
   "source": [
    "pip install pandas"
   ]
  },
  {
   "cell_type": "markdown",
   "id": "b0cc6355-2c69-46e5-b9cf-5ac9073acc0b",
   "metadata": {},
   "source": [
    " ### Importing Modules"
   ]
  },
  {
   "cell_type": "code",
   "execution_count": 8,
   "id": "b7e20d56-4e81-4216-bf49-3e86f946f77a",
   "metadata": {},
   "outputs": [],
   "source": [
    "import matplotlib.pyplot as plt\n",
    "import pandas as pd\n",
    "import seaborn as sns\n",
    "import plotly.express as px\n",
    "import ipywidgets as widgets\n",
    "from ipywidgets import interact\n",
    "from IPython.display import display\n",
    "%matplotlib inline\n"
   ]
  },
  {
   "cell_type": "markdown",
   "id": "01c5ef74-4186-4f2b-b131-aa08b22ea373",
   "metadata": {},
   "source": [
    "### Reading and Importing the Dataset"
   ]
  },
  {
   "cell_type": "code",
   "execution_count": 9,
   "id": "59eebf4d-4a42-4fd8-9cf6-d626d393a48f",
   "metadata": {},
   "outputs": [
    {
     "data": {
      "text/html": [
       "<div>\n",
       "<style scoped>\n",
       "    .dataframe tbody tr th:only-of-type {\n",
       "        vertical-align: middle;\n",
       "    }\n",
       "\n",
       "    .dataframe tbody tr th {\n",
       "        vertical-align: top;\n",
       "    }\n",
       "\n",
       "    .dataframe thead th {\n",
       "        text-align: right;\n",
       "    }\n",
       "</style>\n",
       "<table border=\"1\" class=\"dataframe\">\n",
       "  <thead>\n",
       "    <tr style=\"text-align: right;\">\n",
       "      <th></th>\n",
       "      <th>Type</th>\n",
       "      <th>Title</th>\n",
       "      <th>Director</th>\n",
       "      <th>Cast</th>\n",
       "      <th>Country</th>\n",
       "      <th>Release_Date</th>\n",
       "      <th>Release_Year</th>\n",
       "      <th>Rating</th>\n",
       "      <th>Duration</th>\n",
       "      <th>Genres</th>\n",
       "    </tr>\n",
       "  </thead>\n",
       "  <tbody>\n",
       "    <tr>\n",
       "      <th>0</th>\n",
       "      <td>Movie</td>\n",
       "      <td>Norm of the North: King Sized Adventure</td>\n",
       "      <td>Richard Finn</td>\n",
       "      <td>Alan Marriott</td>\n",
       "      <td>United States</td>\n",
       "      <td>Sep-09</td>\n",
       "      <td>2019</td>\n",
       "      <td>TV-PG</td>\n",
       "      <td>90 min</td>\n",
       "      <td>Children &amp; Family Movies</td>\n",
       "    </tr>\n",
       "    <tr>\n",
       "      <th>1</th>\n",
       "      <td>Movie</td>\n",
       "      <td>#realityhigh</td>\n",
       "      <td>Fernando Lebrija</td>\n",
       "      <td>Nesta Cooper</td>\n",
       "      <td>United States</td>\n",
       "      <td>Sep-08</td>\n",
       "      <td>2017</td>\n",
       "      <td>TV-14</td>\n",
       "      <td>99 min</td>\n",
       "      <td>Comedies</td>\n",
       "    </tr>\n",
       "    <tr>\n",
       "      <th>2</th>\n",
       "      <td>Movie</td>\n",
       "      <td>Good People</td>\n",
       "      <td>Henrik Ruben Genz</td>\n",
       "      <td>James Franco</td>\n",
       "      <td>United States</td>\n",
       "      <td>Sep-08</td>\n",
       "      <td>2014</td>\n",
       "      <td>R</td>\n",
       "      <td>90 min</td>\n",
       "      <td>Action &amp; Adventure</td>\n",
       "    </tr>\n",
       "    <tr>\n",
       "      <th>3</th>\n",
       "      <td>Movie</td>\n",
       "      <td>Love</td>\n",
       "      <td>Gaspar Noé</td>\n",
       "      <td>Karl Glusman</td>\n",
       "      <td>France</td>\n",
       "      <td>Sep-08</td>\n",
       "      <td>2015</td>\n",
       "      <td>NR</td>\n",
       "      <td>135 min</td>\n",
       "      <td>Cult Movies</td>\n",
       "    </tr>\n",
       "    <tr>\n",
       "      <th>4</th>\n",
       "      <td>Movie</td>\n",
       "      <td>Manhattan Romance</td>\n",
       "      <td>Tom O'Brien</td>\n",
       "      <td>Tom O'Brien</td>\n",
       "      <td>United States</td>\n",
       "      <td>Sep-08</td>\n",
       "      <td>2014</td>\n",
       "      <td>TV-14</td>\n",
       "      <td>98 min</td>\n",
       "      <td>Comedies</td>\n",
       "    </tr>\n",
       "  </tbody>\n",
       "</table>\n",
       "</div>"
      ],
      "text/plain": [
       "    Type                                    Title           Director  \\\n",
       "0  Movie  Norm of the North: King Sized Adventure       Richard Finn   \n",
       "1  Movie                             #realityhigh   Fernando Lebrija   \n",
       "2  Movie                              Good People  Henrik Ruben Genz   \n",
       "3  Movie                                     Love         Gaspar Noé   \n",
       "4  Movie                        Manhattan Romance        Tom O'Brien   \n",
       "\n",
       "            Cast        Country Release_Date  Release_Year Rating Duration  \\\n",
       "0  Alan Marriott  United States       Sep-09          2019  TV-PG   90 min   \n",
       "1   Nesta Cooper  United States       Sep-08          2017  TV-14   99 min   \n",
       "2   James Franco  United States       Sep-08          2014      R   90 min   \n",
       "3   Karl Glusman         France       Sep-08          2015     NR  135 min   \n",
       "4    Tom O'Brien  United States       Sep-08          2014  TV-14   98 min   \n",
       "\n",
       "                     Genres  \n",
       "0  Children & Family Movies  \n",
       "1                  Comedies  \n",
       "2        Action & Adventure  \n",
       "3               Cult Movies  \n",
       "4                  Comedies  "
      ]
     },
     "metadata": {},
     "output_type": "display_data"
    }
   ],
   "source": [
    "import pandas as pd\n",
    "df = pd.read_csv(\"finalfinal.csv\")\n",
    "display(df.head())"
   ]
  },
  {
   "cell_type": "markdown",
   "id": "62614ed9-8a09-4b7b-8913-30dabe813b94",
   "metadata": {},
   "source": [
    "### Setting Netflix Color Palette for Seaborn Visualizations"
   ]
  },
  {
   "cell_type": "code",
   "execution_count": 10,
   "id": "b2552141-0645-4b25-960b-82d9509ead3f",
   "metadata": {},
   "outputs": [],
   "source": [
    "#Netflix color palette\n",
    "netflix_palette = ['#E50914', '#221F1F', '#808080', '#B20710', '#000000']\n",
    "sns.set_palette(netflix_palette)\n"
   ]
  },
  {
   "cell_type": "code",
   "execution_count": 11,
   "id": "1f514403-ab9e-4876-a704-69bab3b26fe6",
   "metadata": {},
   "outputs": [
    {
     "data": {
      "application/vnd.jupyter.widget-view+json": {
       "model_id": "a7a03a8e30d946dcbf6e8349fa05ff11",
       "version_major": 2,
       "version_minor": 0
      },
      "text/plain": [
       "interactive(children=(Dropdown(description='Select Column:', options=('Type', 'Country', 'Genres', 'Rating', '…"
      ]
     },
     "metadata": {},
     "output_type": "display_data"
    }
   ],
   "source": [
    "# Dropdown for selecting the column\n",
    "column_dropdown = widgets.Dropdown(\n",
    "    options=['Type', 'Country', 'Genres', 'Rating', 'Release_Year'], value='Type', description='Select Column:')\n",
    "\n",
    "# Threshold for grouping smaller values\n",
    "threshold_percentage = 3\n",
    "\n",
    "# Dropdown selection\n",
    "@interact(column=column_dropdown)\n",
    "def plot_pie_and_bar_chart(column):\n",
    "    plt.figure(figsize=(16, 8))\n",
    "\n",
    "    # Plot Pie Chart (smaller size)\n",
    "    plt.subplot(1, 2, 1)\n",
    "    value_counts = df[column].value_counts()\n",
    "\n",
    "    # Identify values below the threshold\n",
    "    small_values = value_counts[value_counts < (threshold_percentage / 100 * df.shape[0])]\n",
    "\n",
    "    # Group smaller values into 'Other' category\n",
    "    value_counts = value_counts[~value_counts.index.isin(small_values.index)]\n",
    "    value_counts.loc['Other'] = small_values.sum()\n",
    "\n",
    "    value_counts.plot.pie(autopct='%1.1f%%', textprops={'color': 'black'}, colors=netflix_palette)\n",
    "    plt.title(f'Pie Chart for {column} Distribution')\n",
    "    plt.ylabel('')\n",
    "\n",
    "    # Plot Horizontal Bar Chart (larger size)\n",
    "    plt.subplot(1, 2, 2)\n",
    "\n",
    "    if column == \"Release_Year\":\n",
    "        filtered_data = df[df['Release_Year'] >= 2010]\n",
    "        title = f'Horizontal Bar Chart for {column} Distribution'\n",
    "    else:\n",
    "        filtered_data = df\n",
    "        title = f'Horizontal Bar Chart for {column} Distribution'\n",
    "\n",
    "    filtered_data[column].value_counts().sort_values().plot(kind='barh', color=netflix_palette)\n",
    "    plt.title(title)\n",
    "    plt.xlabel('Count')\n",
    "\n",
    "    plt.tight_layout()  # Adjust layout to prevent overlapping\n",
    "    plt.show()\n"
   ]
  },
  {
   "cell_type": "code",
   "execution_count": 12,
   "id": "a5bf6a6b-2506-48da-a27b-11df3be71379",
   "metadata": {},
   "outputs": [
    {
     "data": {
      "application/vnd.jupyter.widget-view+json": {
       "model_id": "25713a9f8ded4181bee2987baabcc1fc",
       "version_major": 2,
       "version_minor": 0
      },
      "text/plain": [
       "interactive(children=(IntSlider(value=2001, description='Release Year:', max=2019, min=2001), Output()), _dom_…"
      ]
     },
     "metadata": {},
     "output_type": "display_data"
    }
   ],
   "source": [
    "year_slider = widgets.IntSlider(min=2001, max=df['Release_Year'].max(), step=1, value=df['Release_Year'].min(), description='Release Year:')\n",
    "\n",
    "@interact(year=year_slider)\n",
    "def plot_dot_map(year):\n",
    "    netflix_palette = ['#E50914', '#221F1F', '#808080', '#B20710', '#000000']\n",
    "    sns.set_palette(netflix_palette)\n",
    "    filtered_df = df[(df['Release_Year'] == year)]\n",
    "    \n",
    "    fig = px.choropleth(filtered_df, locations='Country', color='Genres', color_discrete_map=dict(zip(df['Genres'].unique(), netflix_palette)),\n",
    "                        title='Genre vs Country', template='plotly', locationmode='country names')\n",
    "    fig.update_geos(projection_type=\"natural earth\")\n",
    "    fig.show()\n",
    "\n"
   ]
  }
 ],
 "metadata": {
  "kernelspec": {
   "display_name": "Python 3 (ipykernel)",
   "language": "python",
   "name": "python3"
  },
  "language_info": {
   "codemirror_mode": {
    "name": "ipython",
    "version": 3
   },
   "file_extension": ".py",
   "mimetype": "text/x-python",
   "name": "python",
   "nbconvert_exporter": "python",
   "pygments_lexer": "ipython3",
   "version": "3.11.5"
  }
 },
 "nbformat": 4,
 "nbformat_minor": 5
}
